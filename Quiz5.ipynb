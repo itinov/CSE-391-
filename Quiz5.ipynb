{
 "cells": [
  {
   "cell_type": "markdown",
   "metadata": {},
   "source": [
    "# Quiz 5\n",
    "\n",
    "# [BlogFeedback comment prediction](http://archive.ics.uci.edu/ml/datasets/BlogFeedback)\n",
    "\n",
    "\n",
    "- download the data folder\n",
    "- unzip\n",
    "- read the file named blogData_train inside data folder\n",
    "- we would like to use Elasticnet regression model to fit a model that predicts  the number of comments in the next 24 hours in a given Blog\n",
    "\n",
    "- read the file using pd.read_csv\n",
    "- the last column is the target values (y)\n",
    "- only use the first 181 columns of features (X)\n",
    "- for your Elasticnet regression model use the following values:\n",
    "    - L1_ratio = np.linspace(0.1,1,5)\n",
    "    - Alphas = np.linspace(1,10,5)\n",
    "\n",
    "\n",
    "- choose the best model using cross validation\n",
    "- print out the best value you find for L1_ratio and Alpha\n",
    "\n"
   ]
  },
  {
   "cell_type": "code",
   "execution_count": null,
   "metadata": {},
   "outputs": [],
   "source": [
    "\n",
    "import pandas as pd\n",
    "import numpy as np\n",
    "import datetime as dtime\n",
    "import matplotlib.pylab as plt\n",
    "from numpy.random import seed\n",
    "from numpy.random import randn\n",
    "from matplotlib import pyplot\n",
    "from sklearn.linear_model import ElasticNet\n",
    "from sklearn.metrics import r2_score\n",
    "from sklearn.linear_model import Lasso\n",
    "\n",
    "#blogData_train\n",
    "\n",
    "filepath = '/Users/Ivan/Desktop/Cse 391 lectures/blogData_train.csv'\n",
    "data = pd.read_csv(filepath)\n",
    "data.head()\n",
    "\n",
    "\n",
    "n_samples = data.shape[0]\n",
    "X_train, y_train = data[:n_samples // 2], data[:n_samples // 2]\n",
    "X_test, y_test = data[n_samples // 2:], data[n_samples // 2:]\n",
    "\n",
    "alpha = np.linspace(1,10,5)\n",
    "lasso = Lasso(alpha=alpha)\n",
    "\n",
    "y_pred_lasso = lasso.fit(X_train, y_train).predict(X_test)\n",
    "r2_score_lasso = r2_score(y_test, y_pred_lasso)\n",
    "print(lasso)\n",
    "print(\"r^2 on test data : %f\" % r2_score_lasso)\n",
    "\n",
    "# #############################################################################\n",
    "# ElasticNet\n",
    "from sklearn.linear_model import ElasticNet\n",
    "\n",
    "enet = ElasticNet(alpha=alpha, np.linspace(0.1,1,5))\n",
    "\n",
    "y_pred_enet = enet.fit(X_train, y_train).predict(X_test)\n",
    "r2_score_enet = r2_score(y_test, y_pred_enet)\n",
    "print(enet)\n",
    "print(\"r^2 on test data : %f\" % r2_score_enet)\n",
    "\n",
    "plt.plot(enet.coef_, color='lightgreen', linewidth=2,\n",
    "         label='Elastic net coefficients')\n",
    "plt.plot(lasso.coef_, color='gold', linewidth=2,\n",
    "         label='Lasso coefficients')\n",
    "plt.plot(coef, '--', color='navy', label='original coefficients')\n",
    "plt.legend(loc='best')\n",
    "plt.title(\"Lasso R^2: %f, Elastic Net R^2: %f\"\n",
    "          % (r2_score_lasso, r2_score_enet))\n",
    "plt.show()\n"
   ]
  },
  {
   "cell_type": "code",
   "execution_count": null,
   "metadata": {},
   "outputs": [],
   "source": []
  },
  {
   "cell_type": "code",
   "execution_count": null,
   "metadata": {},
   "outputs": [],
   "source": []
  },
  {
   "cell_type": "code",
   "execution_count": null,
   "metadata": {},
   "outputs": [],
   "source": []
  }
 ],
 "metadata": {
  "kernelspec": {
   "display_name": "Python 3",
   "language": "python",
   "name": "python3"
  },
  "language_info": {
   "codemirror_mode": {
    "name": "ipython",
    "version": 3
   },
   "file_extension": ".py",
   "mimetype": "text/x-python",
   "name": "python",
   "nbconvert_exporter": "python",
   "pygments_lexer": "ipython3",
   "version": "3.6.5"
  }
 },
 "nbformat": 4,
 "nbformat_minor": 2
}
