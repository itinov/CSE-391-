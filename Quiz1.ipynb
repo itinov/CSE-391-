{
 "cells": [
  {
   "cell_type": "markdown",
   "metadata": {},
   "source": [
    "### CSE391 Data Science: Quiz 1 Solution\n",
    "1- Using Numpy library in Python, write a python function to solve the system of linear equations: Note you only allow to use numpy arrays and the following operations : slicing, transpose,  and inverse\n",
    "\n",
    " $\\large \\begin{cases} 3x + 5y + z = 2 \\\\ 7x – 2y + 4z= 7 \\\\ -6x + 3y + 2z =3 \\end{cases}$\n",
    " \n",
    " \n",
    " 2- Let $x_{1\\times N}= [x_1, x_2, \\ldots, x_N]$ and $y_{1\\times N} = [y_1,y_2,\\ldots,y_N]$. Using Scientific libraries in Python, write a function that computes \n",
    " \n",
    " $ \\Huge \\sum_{i=1}^{N}\\sum_{j=1}^{N} x_i y_j $\n",
    " \n",
    " Try your function with the following inputs\n",
    " $x_{1\\times 3}= [1, 2,3]$ and $y_{1\\times 3} = [4,5,6]$ and print out the output."
   ]
  },
  {
   "cell_type": "code",
   "execution_count": 14,
   "metadata": {},
   "outputs": [
    {
     "name": "stdout",
     "output_type": "stream",
     "text": [
      "[0.06550218 0.03056769 1.65065502]\n"
     ]
    }
   ],
   "source": [
    "# problem 1\n",
    "import numpy as np\n",
    "\n",
    "a = np.array([[3,5,1],[7,-2,4],[-6,3,2]])\n",
    "b = np.array([2,7,3])\n",
    "\n",
    "# x1 = np.linalg.solve(a,b), JUST FOR TESTING PURPOSES\n",
    "\n",
    "x = np.linalg.inv(a) # create inverse of A, A^-1\n",
    "y = np.dot(x,b) # find the dot product of A^-1 and B\n",
    "\n",
    "# result\n",
    "print(y)"
   ]
  },
  {
   "cell_type": "code",
   "execution_count": 22,
   "metadata": {},
   "outputs": [
    {
     "name": "stdout",
     "output_type": "stream",
     "text": [
      "90\n"
     ]
    }
   ],
   "source": [
    "# problem 2\n",
    "import numpy as np\n",
    "\n",
    "# multiply all combinations of Xi, Yj, and sum them up all at the end....\n",
    "x = np.array([1,2,3])\n",
    "y = np.array([4,5,6])\n",
    "\n",
    "# so basically the dot product....\n",
    "#ans = np.dot(x,y)\n",
    "ans = sum(sum(x)*y)\n",
    "\n",
    "print(ans)\n"
   ]
  },
  {
   "cell_type": "code",
   "execution_count": null,
   "metadata": {},
   "outputs": [],
   "source": []
  },
  {
   "cell_type": "code",
   "execution_count": null,
   "metadata": {},
   "outputs": [],
   "source": []
  }
 ],
 "metadata": {
  "kernelspec": {
   "display_name": "Python 3",
   "language": "python",
   "name": "python3"
  },
  "language_info": {
   "codemirror_mode": {
    "name": "ipython",
    "version": 3
   },
   "file_extension": ".py",
   "mimetype": "text/x-python",
   "name": "python",
   "nbconvert_exporter": "python",
   "pygments_lexer": "ipython3",
   "version": "3.6.5"
  }
 },
 "nbformat": 4,
 "nbformat_minor": 2
}
