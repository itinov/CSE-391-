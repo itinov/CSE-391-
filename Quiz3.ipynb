{
 "cells": [
  {
   "cell_type": "markdown",
   "metadata": {},
   "source": [
    "## CSE391 F2018 Data Science\n",
    "### Quiz 3\n",
    "\n",
    "1. Read the file Email.csv\n",
    "2. Are there any outlier email? find them and discard them\n",
    "3. Plot the histogram of email counts? what distribution do you think the counts might have?\n",
    "4. Find the category of the emails with minimum count when the remove the delete emails. Print out the minimum number"
   ]
  },
  {
   "cell_type": "code",
   "execution_count": 91,
   "metadata": {},
   "outputs": [
    {
     "name": "stdout",
     "output_type": "stream",
     "text": [
      "(90795, 6)\n"
     ]
    }
   ],
   "source": [
    "import pandas as pd\n",
    "import numpy as np\n",
    "import datetime as dtime\n",
    "import matplotlib.pylab as plt\n",
    "from numpy.random import seed\n",
    "from numpy.random import randn\n",
    "from matplotlib import pyplot\n",
    "\n",
    "filepath = '/Users/Ivan/Desktop/Cse 391 lectures/Emails.csv'\n",
    "data = pd.read_csv(filepath)\n",
    "data.head()\n",
    "x = data['Date']\n",
    "#x[0]\n",
    "#data.dropna(axis=0, how='any', thresh=None, subset=None, inplace=False)\n",
    "def outliers(x):\n",
    "    x = str(x)\n",
    "    data2 = x.split('-')\n",
    "    if (len(data2) != 3):\n",
    "        return False\n",
    "    if (2018 < float(data2[0]) or float(data2[0]) < 1972):\n",
    "        return False\n",
    "    if (13 < int(data2[1]) or int(data2[1]) < 1):\n",
    "        return False\n",
    "    if (31 < int(data2[2]) or int(data2[2]) < 1):\n",
    "        return False\n",
    "    return True\n",
    "\n",
    "data = data[data['Date'].apply(outliers)]\n",
    "print(data.shape)\n",
    "\n",
    "def findDomain(email):\n",
    "    email = email.split('@')[1]\n",
    "    return email\n",
    "\n",
    "def applyDomain(d):\n",
    "    d['Email'] = d['Email'].apply(domain)\n",
    "    return d\n",
    "\n",
    "\n",
    "\n",
    "# assignment due next wednesday 11:59pm"
   ]
  },
  {
   "cell_type": "code",
   "execution_count": 92,
   "metadata": {},
   "outputs": [],
   "source": [
    "def setDomain(e):\n",
    "    e = e.split('@')[1]\n",
    "    return e\n",
    "def applyDomain(d):\n",
    "    d['Email'] = d['Email'].apply(setDomain)\n",
    "    return d"
   ]
  },
  {
   "cell_type": "code",
   "execution_count": 93,
   "metadata": {},
   "outputs": [
    {
     "name": "stdout",
     "output_type": "stream",
     "text": [
      "39.307826240275055\n",
      "Email\n",
      "fb.com           478782.0\n",
      "gmail.com        606421.0\n",
      "hotmail.com      563652.0\n",
      "microsoft.com    486815.0\n",
      "outlook.com      488595.0\n",
      "spam.ca          425832.0\n",
      "yahoo.com        516931.0\n",
      "Name: Count, dtype: float64\n",
      "\n",
      "Histogram: \n"
     ]
    },
    {
     "data": {
      "image/png": "[encoded data removed]",
      "text/plain": [
       "<Figure size 432x288 with 1 Axes>"
      ]
     },
     "metadata": {},
     "output_type": "display_data"
    }
   ],
   "source": [
    "print(np.mean(data['Count']))\n",
    "data = applyDomain(data)\n",
    "h_data = data.groupby('Email')['Count'].agg('sum')\n",
    "print(h_data)\n",
    "print('\\nHistogram: ')\n",
    "plt.hist(h_data, rwidth = .7, align = 'right')\n",
    "plt.show()"
   ]
  },
  {
   "cell_type": "code",
   "execution_count": 94,
   "metadata": {},
   "outputs": [
    {
     "name": "stdout",
     "output_type": "stream",
     "text": [
      "fb.com is the min\n"
     ]
    }
   ],
   "source": [
    "from collections import Counter\n",
    "d = pd.DataFrame({'email': data['Email']})\n",
    "x = d.email.tolist()\n",
    "count_emails = Counter(x)\n",
    "print(min(count_emails), 'is the min')"
   ]
  },
  {
   "cell_type": "code",
   "execution_count": null,
   "metadata": {},
   "outputs": [],
   "source": []
  }
 ],
 "metadata": {
  "kernelspec": {
   "display_name": "Python 3",
   "language": "python",
   "name": "python3"
  },
  "language_info": {
   "codemirror_mode": {
    "name": "ipython",
    "version": 3
   },
   "file_extension": ".py",
   "mimetype": "text/x-python",
   "name": "python",
   "nbconvert_exporter": "python",
   "pygments_lexer": "ipython3",
   "version": "3.6.5"
  }
 },
 "nbformat": 4,
 "nbformat_minor": 2
}
