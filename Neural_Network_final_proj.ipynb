{
 "cells": [
  {
   "cell_type": "markdown",
   "metadata": {},
   "source": [
    "In this section, a time analysis neural network is implemented to predict future stock closing prices, based on previous closing prices. Cleaning code copied from previous file. "
   ]
  },
  {
   "cell_type": "code",
   "execution_count": 1,
   "metadata": {},
   "outputs": [
    {
     "name": "stdout",
     "output_type": "stream",
     "text": [
      "Data Shape:  (667, 3) \n",
      "\n",
      "<class 'pandas.core.frame.DataFrame'>\n",
      "RangeIndex: 667 entries, 0 to 666\n",
      "Data columns (total 3 columns):\n",
      "date               667 non-null int64\n",
      "signal             667 non-null float64\n",
      "spy_close_price    667 non-null float64\n",
      "dtypes: float64(2), int64(1)\n",
      "memory usage: 15.7 KB\n",
      "None\n"
     ]
    },
    {
     "name": "stderr",
     "output_type": "stream",
     "text": [
      "Using TensorFlow backend.\n"
     ]
    },
    {
     "data": {
      "text/html": [
       "<div>\n",
       "<style scoped>\n",
       "    .dataframe tbody tr th:only-of-type {\n",
       "        vertical-align: middle;\n",
       "    }\n",
       "\n",
       "    .dataframe tbody tr th {\n",
       "        vertical-align: top;\n",
       "    }\n",
       "\n",
       "    .dataframe thead th {\n",
       "        text-align: right;\n",
       "    }\n",
       "</style>\n",
       "<table border=\"1\" class=\"dataframe\">\n",
       "  <thead>\n",
       "    <tr style=\"text-align: right;\">\n",
       "      <th></th>\n",
       "      <th>date</th>\n",
       "      <th>signal</th>\n",
       "      <th>spy_close_price</th>\n",
       "    </tr>\n",
       "  </thead>\n",
       "  <tbody>\n",
       "    <tr>\n",
       "      <th>count</th>\n",
       "      <td>6.670000e+02</td>\n",
       "      <td>667.000000</td>\n",
       "      <td>667.000000</td>\n",
       "    </tr>\n",
       "    <tr>\n",
       "      <th>mean</th>\n",
       "      <td>2.012939e+07</td>\n",
       "      <td>5.166603</td>\n",
       "      <td>163.169369</td>\n",
       "    </tr>\n",
       "    <tr>\n",
       "      <th>std</th>\n",
       "      <td>7.762422e+03</td>\n",
       "      <td>23.392818</td>\n",
       "      <td>39.210384</td>\n",
       "    </tr>\n",
       "    <tr>\n",
       "      <th>min</th>\n",
       "      <td>2.012010e+07</td>\n",
       "      <td>-3.802670</td>\n",
       "      <td>127.495000</td>\n",
       "    </tr>\n",
       "    <tr>\n",
       "      <th>25%</th>\n",
       "      <td>2.012083e+07</td>\n",
       "      <td>3.418083</td>\n",
       "      <td>140.880000</td>\n",
       "    </tr>\n",
       "    <tr>\n",
       "      <th>50%</th>\n",
       "      <td>2.013051e+07</td>\n",
       "      <td>3.893689</td>\n",
       "      <td>159.750000</td>\n",
       "    </tr>\n",
       "    <tr>\n",
       "      <th>75%</th>\n",
       "      <td>2.014010e+07</td>\n",
       "      <td>4.408313</td>\n",
       "      <td>181.500000</td>\n",
       "    </tr>\n",
       "    <tr>\n",
       "      <th>max</th>\n",
       "      <td>2.014083e+07</td>\n",
       "      <td>432.961165</td>\n",
       "      <td>710.310000</td>\n",
       "    </tr>\n",
       "  </tbody>\n",
       "</table>\n",
       "</div>"
      ],
      "text/plain": [
       "               date      signal  spy_close_price\n",
       "count  6.670000e+02  667.000000       667.000000\n",
       "mean   2.012939e+07    5.166603       163.169369\n",
       "std    7.762422e+03   23.392818        39.210384\n",
       "min    2.012010e+07   -3.802670       127.495000\n",
       "25%    2.012083e+07    3.418083       140.880000\n",
       "50%    2.013051e+07    3.893689       159.750000\n",
       "75%    2.014010e+07    4.408313       181.500000\n",
       "max    2.014083e+07  432.961165       710.310000"
      ]
     },
     "metadata": {},
     "output_type": "display_data"
    },
    {
     "data": {
      "text/html": [
       "<div>\n",
       "<style scoped>\n",
       "    .dataframe tbody tr th:only-of-type {\n",
       "        vertical-align: middle;\n",
       "    }\n",
       "\n",
       "    .dataframe tbody tr th {\n",
       "        vertical-align: top;\n",
       "    }\n",
       "\n",
       "    .dataframe thead th {\n",
       "        text-align: right;\n",
       "    }\n",
       "</style>\n",
       "<table border=\"1\" class=\"dataframe\">\n",
       "  <thead>\n",
       "    <tr style=\"text-align: right;\">\n",
       "      <th></th>\n",
       "      <th>date</th>\n",
       "      <th>signal</th>\n",
       "      <th>spy_close_price</th>\n",
       "    </tr>\n",
       "  </thead>\n",
       "  <tbody>\n",
       "    <tr>\n",
       "      <th>0</th>\n",
       "      <td>20120103</td>\n",
       "      <td>3.107767</td>\n",
       "      <td>127.495</td>\n",
       "    </tr>\n",
       "    <tr>\n",
       "      <th>1</th>\n",
       "      <td>20120104</td>\n",
       "      <td>3.107282</td>\n",
       "      <td>127.700</td>\n",
       "    </tr>\n",
       "    <tr>\n",
       "      <th>2</th>\n",
       "      <td>20120105</td>\n",
       "      <td>3.099757</td>\n",
       "      <td>128.040</td>\n",
       "    </tr>\n",
       "    <tr>\n",
       "      <th>3</th>\n",
       "      <td>20120106</td>\n",
       "      <td>3.134223</td>\n",
       "      <td>127.710</td>\n",
       "    </tr>\n",
       "    <tr>\n",
       "      <th>4</th>\n",
       "      <td>20120109</td>\n",
       "      <td>3.135922</td>\n",
       "      <td>128.020</td>\n",
       "    </tr>\n",
       "  </tbody>\n",
       "</table>\n",
       "</div>"
      ],
      "text/plain": [
       "       date    signal  spy_close_price\n",
       "0  20120103  3.107767          127.495\n",
       "1  20120104  3.107282          127.700\n",
       "2  20120105  3.099757          128.040\n",
       "3  20120106  3.134223          127.710\n",
       "4  20120109  3.135922          128.020"
      ]
     },
     "metadata": {},
     "output_type": "display_data"
    },
    {
     "data": {
      "text/html": [
       "<div>\n",
       "<style scoped>\n",
       "    .dataframe tbody tr th:only-of-type {\n",
       "        vertical-align: middle;\n",
       "    }\n",
       "\n",
       "    .dataframe tbody tr th {\n",
       "        vertical-align: top;\n",
       "    }\n",
       "\n",
       "    .dataframe thead th {\n",
       "        text-align: right;\n",
       "    }\n",
       "</style>\n",
       "<table border=\"1\" class=\"dataframe\">\n",
       "  <thead>\n",
       "    <tr style=\"text-align: right;\">\n",
       "      <th></th>\n",
       "      <th>date</th>\n",
       "      <th>signal</th>\n",
       "      <th>spy_close_price</th>\n",
       "    </tr>\n",
       "  </thead>\n",
       "  <tbody>\n",
       "    <tr>\n",
       "      <th>303</th>\n",
       "      <td>20130326</td>\n",
       "      <td>-3.802670</td>\n",
       "      <td>156.1900</td>\n",
       "    </tr>\n",
       "    <tr>\n",
       "      <th>421</th>\n",
       "      <td>20130912</td>\n",
       "      <td>4.193204</td>\n",
       "      <td>618.9500</td>\n",
       "    </tr>\n",
       "    <tr>\n",
       "      <th>422</th>\n",
       "      <td>20130913</td>\n",
       "      <td>4.143689</td>\n",
       "      <td>619.3300</td>\n",
       "    </tr>\n",
       "    <tr>\n",
       "      <th>423</th>\n",
       "      <td>20130916</td>\n",
       "      <td>4.124515</td>\n",
       "      <td>710.3100</td>\n",
       "    </tr>\n",
       "    <tr>\n",
       "      <th>459</th>\n",
       "      <td>20131105</td>\n",
       "      <td>429.514563</td>\n",
       "      <td>176.2700</td>\n",
       "    </tr>\n",
       "    <tr>\n",
       "      <th>460</th>\n",
       "      <td>20131106</td>\n",
       "      <td>432.961165</td>\n",
       "      <td>177.1700</td>\n",
       "    </tr>\n",
       "    <tr>\n",
       "      <th>570</th>\n",
       "      <td>20140414</td>\n",
       "      <td>0.004560</td>\n",
       "      <td>182.9401</td>\n",
       "    </tr>\n",
       "    <tr>\n",
       "      <th>571</th>\n",
       "      <td>20140415</td>\n",
       "      <td>0.454976</td>\n",
       "      <td>184.2000</td>\n",
       "    </tr>\n",
       "    <tr>\n",
       "      <th>572</th>\n",
       "      <td>20140416</td>\n",
       "      <td>0.455898</td>\n",
       "      <td>186.1250</td>\n",
       "    </tr>\n",
       "  </tbody>\n",
       "</table>\n",
       "</div>"
      ],
      "text/plain": [
       "         date      signal  spy_close_price\n",
       "303  20130326   -3.802670         156.1900\n",
       "421  20130912    4.193204         618.9500\n",
       "422  20130913    4.143689         619.3300\n",
       "423  20130916    4.124515         710.3100\n",
       "459  20131105  429.514563         176.2700\n",
       "460  20131106  432.961165         177.1700\n",
       "570  20140414    0.004560         182.9401\n",
       "571  20140415    0.454976         184.2000\n",
       "572  20140416    0.455898         186.1250"
      ]
     },
     "metadata": {},
     "output_type": "display_data"
    },
    {
     "data": {
      "text/html": [
       "<div>\n",
       "<style scoped>\n",
       "    .dataframe tbody tr th:only-of-type {\n",
       "        vertical-align: middle;\n",
       "    }\n",
       "\n",
       "    .dataframe tbody tr th {\n",
       "        vertical-align: top;\n",
       "    }\n",
       "\n",
       "    .dataframe thead th {\n",
       "        text-align: right;\n",
       "    }\n",
       "</style>\n",
       "<table border=\"1\" class=\"dataframe\">\n",
       "  <thead>\n",
       "    <tr style=\"text-align: right;\">\n",
       "      <th></th>\n",
       "      <th>date</th>\n",
       "      <th>signal</th>\n",
       "      <th>spy_close_price</th>\n",
       "    </tr>\n",
       "  </thead>\n",
       "  <tbody>\n",
       "    <tr>\n",
       "      <th>count</th>\n",
       "      <td>6.580000e+02</td>\n",
       "      <td>658.000000</td>\n",
       "      <td>658.000000</td>\n",
       "    </tr>\n",
       "    <tr>\n",
       "      <th>mean</th>\n",
       "      <td>2.012933e+07</td>\n",
       "      <td>3.911967</td>\n",
       "      <td>160.824444</td>\n",
       "    </tr>\n",
       "    <tr>\n",
       "      <th>std</th>\n",
       "      <td>7.778235e+03</td>\n",
       "      <td>0.525500</td>\n",
       "      <td>21.488326</td>\n",
       "    </tr>\n",
       "    <tr>\n",
       "      <th>min</th>\n",
       "      <td>2.012010e+07</td>\n",
       "      <td>3.099757</td>\n",
       "      <td>127.495000</td>\n",
       "    </tr>\n",
       "    <tr>\n",
       "      <th>25%</th>\n",
       "      <td>2.012083e+07</td>\n",
       "      <td>3.419053</td>\n",
       "      <td>140.817500</td>\n",
       "    </tr>\n",
       "    <tr>\n",
       "      <th>50%</th>\n",
       "      <td>2.013050e+07</td>\n",
       "      <td>3.890291</td>\n",
       "      <td>159.245000</td>\n",
       "    </tr>\n",
       "    <tr>\n",
       "      <th>75%</th>\n",
       "      <td>2.013788e+07</td>\n",
       "      <td>4.409072</td>\n",
       "      <td>180.985000</td>\n",
       "    </tr>\n",
       "    <tr>\n",
       "      <th>max</th>\n",
       "      <td>2.014083e+07</td>\n",
       "      <td>4.881311</td>\n",
       "      <td>200.710000</td>\n",
       "    </tr>\n",
       "  </tbody>\n",
       "</table>\n",
       "</div>"
      ],
      "text/plain": [
       "               date      signal  spy_close_price\n",
       "count  6.580000e+02  658.000000       658.000000\n",
       "mean   2.012933e+07    3.911967       160.824444\n",
       "std    7.778235e+03    0.525500        21.488326\n",
       "min    2.012010e+07    3.099757       127.495000\n",
       "25%    2.012083e+07    3.419053       140.817500\n",
       "50%    2.013050e+07    3.890291       159.245000\n",
       "75%    2.013788e+07    4.409072       180.985000\n",
       "max    2.014083e+07    4.881311       200.710000"
      ]
     },
     "metadata": {},
     "output_type": "display_data"
    },
    {
     "data": {
      "text/plain": [
       "<Figure size 640x480 with 1 Axes>"
      ]
     },
     "metadata": {},
     "output_type": "display_data"
    }
   ],
   "source": [
    "import pandas as pd\n",
    "import numpy as np\n",
    "import matplotlib.pyplot as plt\n",
    "from IPython.display import display\n",
    "import datetime\n",
    "from sklearn.preprocessing import MinMaxScaler\n",
    "import tensorflow as tf\n",
    "from keras.models import Sequential\n",
    "from keras.layers import Dense\n",
    "from keras.layers import LSTM, Flatten\n",
    "from sklearn import preprocessing\n",
    "from keras.callbacks import EarlyStopping\n",
    "\n",
    "filepath = \"/Users/Ivan/Desktop/Cse 391 lectures/data.csv\"\n",
    "data = pd.read_csv(filepath)\n",
    "print(\"Data Shape: \", data.shape, \"\\n\")\n",
    "print(data.info())\n",
    "display(data.describe())\n",
    "display(data.head())\n",
    "\n",
    "# Eliminating Outliers\n",
    "Q1 = data.quantile(0.25)\n",
    "Q3 = data.quantile(0.75)\n",
    "IQR = Q3 - Q1\n",
    "\n",
    "df_outliers = data[((data < (Q1 - 1.5 * IQR)) |(data > (Q3 + 1.5 * IQR))).any(axis=1)]\n",
    "df = data[~((data < (Q1 - 1.5 * IQR)) |(data > (Q3 + 1.5 * IQR))).any(axis=1)]\n",
    "\n",
    "display(df_outliers)\n",
    "display(df.describe())\n",
    "\n",
    "#Graph 1.2: signal vs spy_close_price\n",
    "df.plot(kind = 'scatter', x = 'signal', y = 'spy_close_price', rot = 70)\n",
    "plt.xlabel(\"signal\")\n",
    "plt.ylabel(\"spy_close_price\")\n",
    "plt.title(\"Signal vs SP500 Index\")\n",
    "plt.show()\n",
    "\n",
    "# Converting 'date' Data to Datetimes\n",
    "#df['date'] = df['date'].apply(lambda x: pd.to_datetime(str(x), format='%Y%m%d'))"
   ]
  },
  {
   "cell_type": "markdown",
   "metadata": {},
   "source": [
    "MinMaxScaler was used to scale data to be ready for input into the neural network model. MinMaxScaler is sensitive to outliers, so eliminating outliers was done beforehand. The scaler rescales the data so that they are in the range [0,1]. Additionally, this was used because if needed the transform can be inverted back to the original data. "
   ]
  },
  {
   "cell_type": "code",
   "execution_count": 2,
   "metadata": {},
   "outputs": [
    {
     "name": "stderr",
     "output_type": "stream",
     "text": [
      "C:\\Users\\Anthony Girard\\Anaconda3\\envs\\TensorFlowEnv\\lib\\site-packages\\sklearn\\preprocessing\\data.py:323: DataConversionWarning: Data with input dtype int64, float64 were all converted to float64 by MinMaxScaler.\n",
      "  return self.partial_fit(X, y)\n"
     ]
    }
   ],
   "source": [
    "scaler = MinMaxScaler()\n",
    "scaled_df = scaler.fit_transform(df)"
   ]
  },
  {
   "cell_type": "markdown",
   "metadata": {},
   "source": [
    "BELOW CODE WAS TAKEN FROM https://machinelearningmastery.com/convert-time-series-supervised-learning-problem-python/\n",
    "\n",
    "This code prepares the data for input into a time series neural network by framing it as a supervised learning data set. Time steps are created as new pandas columns, that represent current values of features (t), while original data is labeled as previous data (t-1). This is an example of one-step forecasting.\n",
    "\n"
   ]
  },
  {
   "cell_type": "code",
   "execution_count": 3,
   "metadata": {},
   "outputs": [
    {
     "name": "stdout",
     "output_type": "stream",
     "text": [
      "<class 'pandas.core.frame.DataFrame'>\n",
      "   spy close price(prev)  spy close price(curr)\n",
      "1               0.000000               0.002800\n",
      "2               0.002800               0.007444\n",
      "3               0.007444               0.002937\n",
      "4               0.002937               0.007171\n",
      "5               0.007171               0.022331\n"
     ]
    }
   ],
   "source": [
    "from pandas import DataFrame\n",
    "from pandas import concat\n",
    "\n",
    "def series_to_supervised(data, n_in=1, n_out=1, dropnan=True):\n",
    "    \"\"\"\n",
    "    Frame a time series as a supervised learning dataset.\n",
    "    Arguments:\n",
    "        data: Sequence of observations as a list or NumPy array.\n",
    "        n_in: Number of lag observations as input (X).\n",
    "        n_out: Number of observations as output (y).\n",
    "        dropnan: Boolean whether or not to drop rows with NaN values.\n",
    "    Returns:\n",
    "        Pandas DataFrame of series framed for supervised learning.\n",
    "    \"\"\"\n",
    "    n_vars = 1 if type(data) is list else data.shape[1]\n",
    "    df = DataFrame(data)\n",
    "    cols, names = list(), list()\n",
    "    # input sequence (t-n, ... t-1)\n",
    "    for i in range(n_in, 0, -1):\n",
    "        cols.append(df.shift(i))\n",
    "        names += [('var%d(t-%d)' % (j+1, i)) for j in range(n_vars)]\n",
    "    # forecast sequence (t, t+1, ... t+n)\n",
    "    for i in range(0, n_out):\n",
    "        cols.append(df.shift(-i))\n",
    "        if i == 0:\n",
    "            names += [('var%d(t)' % (j+1)) for j in range(n_vars)]\n",
    "        else:\n",
    "            names += [('var%d(t+%d)' % (j+1, i)) for j in range(n_vars)]\n",
    "    # put it all together\n",
    "    agg = concat(cols, axis=1)\n",
    "    agg.columns = names\n",
    "    # drop rows with NaN values\n",
    "    if dropnan:\n",
    "        agg.dropna(inplace=True)\n",
    "    return agg\n",
    "\n",
    "TS_data = series_to_supervised(scaled_df)\n",
    "TS_data.drop(TS_data.columns[[0,1,3,4]], axis=1, inplace=True)\n",
    "TS_data.columns = ['spy close price(prev)','spy close price(curr)']\n",
    "print(type(TS_data))\n",
    "print(TS_data.head())"
   ]
  },
  {
   "cell_type": "markdown",
   "metadata": {},
   "source": [
    "Below the supervised learning data was separated between training data (75% of data) and testing data (other 25%) on the basis of Date. The training data comprises the first 75% entries, while the latter 25% is used for testing."
   ]
  },
  {
   "cell_type": "code",
   "execution_count": 4,
   "metadata": {},
   "outputs": [],
   "source": [
    "data = TS_data.values\n",
    "boundary = int(data.shape[0]*.75)\n",
    "train_x = data[:boundary, :-1]\n",
    "test_x = data[boundary:, :-1]\n",
    "train_y = data[:boundary, -1]\n",
    "test_y = data[boundary:, -1]\n",
    "\n",
    "train_x = np.reshape(train_x, (train_x.shape[0], 1, train_x.shape[1]))\n",
    "test_x = np.reshape(test_x, (test_x.shape[0], 1, test_x.shape[1]))\n",
    "\n",
    "n_rows = train_x.shape[1]\n",
    "n_cols = train_x.shape[2]"
   ]
  },
  {
   "cell_type": "markdown",
   "metadata": {},
   "source": [
    "The following code blocks are various LSTM neural network models that were created in order to test what model structure and characteristics best and most efficiently predicted the futute stock market closing prices based on the previous prices. The number of hidden layers, number of hidden layer nodes, activation functions and model optimizers were varied. The loss function used was Mean-Square Error."
   ]
  },
  {
   "cell_type": "code",
   "execution_count": 5,
   "metadata": {},
   "outputs": [],
   "source": [
    "model1 = Sequential()\n",
    "early_stopping_monitor = EarlyStopping(patience=3)\n",
    "model1.add(LSTM(50, activation='relu', input_shape=(n_rows, n_cols)))\n",
    "model1.add(Dense(1))\n",
    "model1.compile(optimizer = 'adam', loss = 'mean_squared_error', metrics=['accuracy'])\n",
    "hist1 = model1.fit(train_x, train_y, validation_data=(test_x, test_y), epochs = 30, callbacks=[early_stopping_monitor], verbose=False)"
   ]
  },
  {
   "cell_type": "code",
   "execution_count": 6,
   "metadata": {},
   "outputs": [],
   "source": [
    "model2 = Sequential()\n",
    "early_stopping_monitor = EarlyStopping(patience=3)\n",
    "model2.add(LSTM(50, activation='relu', return_sequences=True, input_shape=(n_rows, n_cols)))\n",
    "model2.add(LSTM(32, activation='relu'))\n",
    "model2.add(Dense(1))\n",
    "model2.compile(optimizer = 'adam', loss = 'mean_squared_error', metrics=['accuracy'])\n",
    "hist2 = model2.fit(train_x, train_y, validation_data=(test_x, test_y), epochs = 30, callbacks=[early_stopping_monitor], verbose=False)"
   ]
  },
  {
   "cell_type": "code",
   "execution_count": 7,
   "metadata": {},
   "outputs": [],
   "source": [
    "model3 = Sequential()\n",
    "early_stopping_monitor = EarlyStopping(patience=3)\n",
    "model3.add(LSTM(1000, activation='relu', input_shape=(n_rows, n_cols)))\n",
    "model3.add(Dense(1))\n",
    "model3.compile(optimizer = 'adam', loss = 'mean_squared_error', metrics=['accuracy'])\n",
    "hist3 = model3.fit(train_x, train_y, validation_data=(test_x, test_y), epochs = 30, callbacks=[early_stopping_monitor], verbose=False)"
   ]
  },
  {
   "cell_type": "code",
   "execution_count": 8,
   "metadata": {},
   "outputs": [],
   "source": [
    "model4 = Sequential()\n",
    "early_stopping_monitor = EarlyStopping(patience=3)\n",
    "model4.add(LSTM(1000, activation='relu', return_sequences=True, input_shape=(n_rows, n_cols)))\n",
    "model4.add(LSTM(50, activation='relu'))\n",
    "model4.add(Dense(1))\n",
    "model4.compile(optimizer = 'adam', loss = 'mean_squared_error', metrics=['accuracy'])\n",
    "hist4 = model4.fit(train_x, train_y, validation_data=(test_x, test_y), epochs = 30, callbacks=[early_stopping_monitor], verbose=False)"
   ]
  },
  {
   "cell_type": "code",
   "execution_count": 9,
   "metadata": {},
   "outputs": [],
   "source": [
    "model4_2 = Sequential()\n",
    "early_stopping_monitor = EarlyStopping(patience=3)\n",
    "model4_2.add(LSTM(1000, activation='sigmoid', return_sequences=True, input_shape=(n_rows, n_cols)))\n",
    "model4_2.add(LSTM(50, activation='sigmoid'))\n",
    "model4_2.add(Dense(1))\n",
    "model4_2.compile(optimizer = 'adam', loss = 'mean_squared_error', metrics=['accuracy'])\n",
    "hist4_2 = model4_2.fit(train_x, train_y, validation_data=(test_x, test_y), epochs = 30, callbacks=[early_stopping_monitor], verbose=False)"
   ]
  },
  {
   "cell_type": "code",
   "execution_count": 10,
   "metadata": {},
   "outputs": [],
   "source": [
    "model3_2 = Sequential()\n",
    "early_stopping_monitor = EarlyStopping(patience=3)\n",
    "model3_2.add(LSTM(1000, activation='sigmoid', input_shape=(n_rows, n_cols)))\n",
    "model3_2.add(Dense(1))\n",
    "model3_2.compile(optimizer = 'adam', loss = 'mean_squared_error', metrics=['accuracy'])\n",
    "hist3_2 = model3_2.fit(train_x, train_y, validation_data=(test_x, test_y), epochs = 30, callbacks=[early_stopping_monitor], verbose=False)"
   ]
  },
  {
   "cell_type": "code",
   "execution_count": 11,
   "metadata": {},
   "outputs": [],
   "source": [
    "model3_3 = Sequential()\n",
    "early_stopping_monitor = EarlyStopping(patience=3)\n",
    "model3_3.add(LSTM(1000, activation='relu', input_shape=(n_rows, n_cols)))\n",
    "model3_3.add(Dense(1))\n",
    "model3_3.compile(optimizer = 'AdaDelta', loss = 'mean_squared_error', metrics=['accuracy'])\n",
    "hist3_3 = model3_3.fit(train_x, train_y, validation_data=(test_x, test_y), epochs = 30, callbacks=[early_stopping_monitor], verbose=False)"
   ]
  },
  {
   "cell_type": "markdown",
   "metadata": {},
   "source": [
    "The number of epochs seemed to make little to no difference as effective models saw their loss functions reach a flat point at around 10-15 epochs. An early stopping monitor was used in order to stop models from continuing to 30 epochs if significant progress was not made in what we set to 3 consecutive epochs. \n",
    "\n",
    "Adam and AdaDelta optimizers were used to compile the model, as both are adaptive learning-method algorithms, which are characterised by converging quickly, high efficiency and accuracy, and robustness to problems such as vanishing learning rate, slow convergence or high variance in the parameter updates. They seemed to have very little difference in effect on the results.\n",
    "\n",
    "ReLu and sigmoid activation functions were used in the models. ReLu seemed to provide significantly lower loss metrics.\n",
    "\n",
    "One, two, and three (though not shown) hidden layers were used. Best results were found using one hidden layer. The number of hidden layer nodes was varied as well, and the model seemed to respond best to a high number of hidden nodes in the one hidden layer. More than 1000 nodes was not used, as the computer was not able to handle much more than that.\n",
    "\n",
    "The models loss functions were plotted below, the best being model 3 and model 3_3. These models both had 1 hidden layer, with 1000 nodes, a ReLu activation function, but differed in the optimizer function. "
   ]
  },
  {
   "cell_type": "code",
   "execution_count": 12,
   "metadata": {},
   "outputs": [
    {
     "data": {
      "image/png": "[encoded data removed]",
      "text/plain": [
       "<Figure size 432x288 with 1 Axes>"
      ]
     },
     "metadata": {
      "needs_background": "light"
     },
     "output_type": "display_data"
    }
   ],
   "source": [
    "plt.plot(hist1.history['val_loss'], 'r', hist2.history['val_loss'], 'b', hist3.history['val_loss'], 'g', hist4.history['val_loss'], 'y', hist4_2.history['val_loss'], 'purple', hist3_2.history['val_loss'], 'black', hist3_3.history['val_loss'], 'pink')\n",
    "plt.xlabel('Epochs')\n",
    "plt.ylabel('Validation score')\n",
    "plt.show()"
   ]
  },
  {
   "cell_type": "code",
   "execution_count": 13,
   "metadata": {},
   "outputs": [
    {
     "data": {
      "image/png": "[encoded data removed]",
      "text/plain": [
       "<Figure size 432x288 with 1 Axes>"
      ]
     },
     "metadata": {
      "needs_background": "light"
     },
     "output_type": "display_data"
    },
    {
     "name": "stdout",
     "output_type": "stream",
     "text": [
      "R-Square: 0.9018869411322442\n",
      "Mean-Square Error: 0.0007105367238224455\n"
     ]
    }
   ],
   "source": [
    "pred = model3.predict(test_x)\n",
    "plt.title('Results for Model')\n",
    "plt.xlabel('Date')\n",
    "plt.ylabel('Spy_Close_Price')\n",
    "\n",
    "plt.plot(pred, label='predicted')\n",
    "plt.plot(test_y, label='target')\n",
    "plt.legend()\n",
    "plt.show()\n",
    "from sklearn.metrics import mean_squared_error, r2_score\n",
    "r2_score = r2_score(test_y, pred)\n",
    "print(\"R-Square:\", r2_score)\n",
    "mse = mean_squared_error(test_y, pred)\n",
    "print(\"Mean-Square Error:\", mse)"
   ]
  },
  {
   "cell_type": "code",
   "execution_count": 14,
   "metadata": {},
   "outputs": [
    {
     "data": {
      "image/png": "[encoded data removed]",
      "text/plain": [
       "<Figure size 432x288 with 1 Axes>"
      ]
     },
     "metadata": {
      "needs_background": "light"
     },
     "output_type": "display_data"
    },
    {
     "name": "stdout",
     "output_type": "stream",
     "text": [
      "R-Square: 0.958187071286316\n",
      "Mean-Square Error: 0.0003028100614178934\n"
     ]
    }
   ],
   "source": [
    "pred = model3_3.predict(test_x)\n",
    "plt.title('Results for Model')\n",
    "plt.xlabel('Date')\n",
    "plt.ylabel('Spy_Close_Price')\n",
    "\n",
    "plt.plot(pred, label='predicted')\n",
    "plt.plot(test_y, label='target')\n",
    "plt.legend()\n",
    "plt.show()\n",
    "from sklearn.metrics import mean_squared_error, r2_score\n",
    "r2_score = r2_score(test_y, pred)\n",
    "print(\"R-Square:\", r2_score)\n",
    "mse = mean_squared_error(test_y, pred)\n",
    "print(\"Mean-Square Error:\", mse)"
   ]
  },
  {
   "cell_type": "markdown",
   "metadata": {},
   "source": [
    "The two chosen models were used to predict future closing prices. Model3_3 had a higher R-Square Value (0.95819) and lower MSE (0.00030). The only difference between the two models being Model3_3 used AdaDelta as the optimization function, while Model3 used Adam optimizer."
   ]
  }
 ],
 "metadata": {
  "kernelspec": {
   "display_name": "Python 3",
   "language": "python",
   "name": "python3"
  },
  "language_info": {
   "codemirror_mode": {
    "name": "ipython",
    "version": 3
   },
   "file_extension": ".py",
   "mimetype": "text/x-python",
   "name": "python",
   "nbconvert_exporter": "python",
   "pygments_lexer": "ipython3",
   "version": "3.6.5"
  }
 },
 "nbformat": 4,
 "nbformat_minor": 2
}
