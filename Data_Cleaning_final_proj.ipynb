{
 "cells": [
  {
   "cell_type": "markdown",
   "metadata": {},
   "source": [
    "The stock market data was statistically and visually explored and subsequently cleaned."
   ]
  },
  {
   "cell_type": "code",
   "execution_count": 1,
   "metadata": {},
   "outputs": [],
   "source": [
    "import pandas as pd\n",
    "import numpy as np\n",
    "import matplotlib.pyplot as plt\n",
    "from IPython.display import display\n",
    "import datetime"
   ]
  },
  {
   "cell_type": "markdown",
   "metadata": {},
   "source": [
    "Data was imported and summary statisics and exploratory analysis were provided."
   ]
  },
  {
   "cell_type": "code",
   "execution_count": 2,
   "metadata": {},
   "outputs": [
    {
     "name": "stdout",
     "output_type": "stream",
     "text": [
      "Data Shape:  (667, 3) \n",
      "\n",
      "<class 'pandas.core.frame.DataFrame'>\n",
      "RangeIndex: 667 entries, 0 to 666\n",
      "Data columns (total 3 columns):\n",
      "date               667 non-null int64\n",
      "signal             667 non-null float64\n",
      "spy_close_price    667 non-null float64\n",
      "dtypes: float64(2), int64(1)\n",
      "memory usage: 15.7 KB\n",
      "None\n"
     ]
    },
    {
     "data": {
      "text/html": [
       "<div>\n",
       "<style scoped>\n",
       "    .dataframe tbody tr th:only-of-type {\n",
       "        vertical-align: middle;\n",
       "    }\n",
       "\n",
       "    .dataframe tbody tr th {\n",
       "        vertical-align: top;\n",
       "    }\n",
       "\n",
       "    .dataframe thead th {\n",
       "        text-align: right;\n",
       "    }\n",
       "</style>\n",
       "<table border=\"1\" class=\"dataframe\">\n",
       "  <thead>\n",
       "    <tr style=\"text-align: right;\">\n",
       "      <th></th>\n",
       "      <th>date</th>\n",
       "      <th>signal</th>\n",
       "      <th>spy_close_price</th>\n",
       "    </tr>\n",
       "  </thead>\n",
       "  <tbody>\n",
       "    <tr>\n",
       "      <th>count</th>\n",
       "      <td>6.670000e+02</td>\n",
       "      <td>667.000000</td>\n",
       "      <td>667.000000</td>\n",
       "    </tr>\n",
       "    <tr>\n",
       "      <th>mean</th>\n",
       "      <td>2.012939e+07</td>\n",
       "      <td>5.166603</td>\n",
       "      <td>163.169369</td>\n",
       "    </tr>\n",
       "    <tr>\n",
       "      <th>std</th>\n",
       "      <td>7.762422e+03</td>\n",
       "      <td>23.392818</td>\n",
       "      <td>39.210384</td>\n",
       "    </tr>\n",
       "    <tr>\n",
       "      <th>min</th>\n",
       "      <td>2.012010e+07</td>\n",
       "      <td>-3.802670</td>\n",
       "      <td>127.495000</td>\n",
       "    </tr>\n",
       "    <tr>\n",
       "      <th>25%</th>\n",
       "      <td>2.012083e+07</td>\n",
       "      <td>3.418083</td>\n",
       "      <td>140.880000</td>\n",
       "    </tr>\n",
       "    <tr>\n",
       "      <th>50%</th>\n",
       "      <td>2.013051e+07</td>\n",
       "      <td>3.893689</td>\n",
       "      <td>159.750000</td>\n",
       "    </tr>\n",
       "    <tr>\n",
       "      <th>75%</th>\n",
       "      <td>2.014010e+07</td>\n",
       "      <td>4.408313</td>\n",
       "      <td>181.500000</td>\n",
       "    </tr>\n",
       "    <tr>\n",
       "      <th>max</th>\n",
       "      <td>2.014083e+07</td>\n",
       "      <td>432.961165</td>\n",
       "      <td>710.310000</td>\n",
       "    </tr>\n",
       "  </tbody>\n",
       "</table>\n",
       "</div>"
      ],
      "text/plain": [
       "               date      signal  spy_close_price\n",
       "count  6.670000e+02  667.000000       667.000000\n",
       "mean   2.012939e+07    5.166603       163.169369\n",
       "std    7.762422e+03   23.392818        39.210384\n",
       "min    2.012010e+07   -3.802670       127.495000\n",
       "25%    2.012083e+07    3.418083       140.880000\n",
       "50%    2.013051e+07    3.893689       159.750000\n",
       "75%    2.014010e+07    4.408313       181.500000\n",
       "max    2.014083e+07  432.961165       710.310000"
      ]
     },
     "metadata": {},
     "output_type": "display_data"
    },
    {
     "data": {
      "text/html": [
       "<div>\n",
       "<style scoped>\n",
       "    .dataframe tbody tr th:only-of-type {\n",
       "        vertical-align: middle;\n",
       "    }\n",
       "\n",
       "    .dataframe tbody tr th {\n",
       "        vertical-align: top;\n",
       "    }\n",
       "\n",
       "    .dataframe thead th {\n",
       "        text-align: right;\n",
       "    }\n",
       "</style>\n",
       "<table border=\"1\" class=\"dataframe\">\n",
       "  <thead>\n",
       "    <tr style=\"text-align: right;\">\n",
       "      <th></th>\n",
       "      <th>date</th>\n",
       "      <th>signal</th>\n",
       "      <th>spy_close_price</th>\n",
       "    </tr>\n",
       "  </thead>\n",
       "  <tbody>\n",
       "    <tr>\n",
       "      <th>0</th>\n",
       "      <td>20120103</td>\n",
       "      <td>3.107767</td>\n",
       "      <td>127.495</td>\n",
       "    </tr>\n",
       "    <tr>\n",
       "      <th>1</th>\n",
       "      <td>20120104</td>\n",
       "      <td>3.107282</td>\n",
       "      <td>127.700</td>\n",
       "    </tr>\n",
       "    <tr>\n",
       "      <th>2</th>\n",
       "      <td>20120105</td>\n",
       "      <td>3.099757</td>\n",
       "      <td>128.040</td>\n",
       "    </tr>\n",
       "    <tr>\n",
       "      <th>3</th>\n",
       "      <td>20120106</td>\n",
       "      <td>3.134223</td>\n",
       "      <td>127.710</td>\n",
       "    </tr>\n",
       "    <tr>\n",
       "      <th>4</th>\n",
       "      <td>20120109</td>\n",
       "      <td>3.135922</td>\n",
       "      <td>128.020</td>\n",
       "    </tr>\n",
       "  </tbody>\n",
       "</table>\n",
       "</div>"
      ],
      "text/plain": [
       "       date    signal  spy_close_price\n",
       "0  20120103  3.107767          127.495\n",
       "1  20120104  3.107282          127.700\n",
       "2  20120105  3.099757          128.040\n",
       "3  20120106  3.134223          127.710\n",
       "4  20120109  3.135922          128.020"
      ]
     },
     "metadata": {},
     "output_type": "display_data"
    }
   ],
   "source": [
    "# Importing Data\n",
    "filepath = \"/Users/Ivan/Desktop/Cse 391 lectures/data.csv\"\n",
    "data = pd.read_csv(filepath)\n",
    "print(\"Data Shape: \", data.shape, \"\\n\")\n",
    "print(data.info())\n",
    "display(data.describe())\n",
    "display(data.head())"
   ]
  },
  {
   "cell_type": "markdown",
   "metadata": {},
   "source": [
    "We can conclude there was no missing data: 667 total entries, as well as 667 non-null values for all three columns\n",
    "There is at least one statistical outlier for signal and spy_close_price, as they both have a max value significantly larger than what is expected to be inside their respective Interqartile ranges given the mean, std, and quartile values described."
   ]
  },
  {
   "cell_type": "markdown",
   "metadata": {},
   "source": [
    "Visualization of the raw data is provided below."
   ]
  },
  {
   "cell_type": "code",
   "execution_count": 3,
   "metadata": {},
   "outputs": [
    {
     "data": {
      "image/png": "[encoded data removed]",
      "text/plain": [
       "<Figure size 432x288 with 1 Axes>"
      ]
     },
     "metadata": {},
     "output_type": "display_data"
    }
   ],
   "source": [
    "#Graph 1.1: signal vs spy_close_price\n",
    "data.plot(kind = 'scatter', x = 'signal', y = 'spy_close_price', rot = 70)\n",
    "plt.xlabel(\"signal\")\n",
    "plt.ylabel(\"spy_close_price\")\n",
    "plt.title(\"Signal vs SP500 Index\")\n",
    "plt.show()"
   ]
  },
  {
   "cell_type": "markdown",
   "metadata": {},
   "source": [
    "It is obvious from this graph that there exist outliers for both signal and spy_close_price."
   ]
  },
  {
   "cell_type": "markdown",
   "metadata": {},
   "source": [
    "Now the outliers will be dropped. We defined an outlier as being any point of data that lies over (1.5 * IQR) below the first quartile (Q1) or above the third quartile (Q3)in a data set."
   ]
  },
  {
   "cell_type": "code",
   "execution_count": 4,
   "metadata": {},
   "outputs": [
    {
     "data": {
      "text/html": [
       "<div>\n",
       "<style scoped>\n",
       "    .dataframe tbody tr th:only-of-type {\n",
       "        vertical-align: middle;\n",
       "    }\n",
       "\n",
       "    .dataframe tbody tr th {\n",
       "        vertical-align: top;\n",
       "    }\n",
       "\n",
       "    .dataframe thead th {\n",
       "        text-align: right;\n",
       "    }\n",
       "</style>\n",
       "<table border=\"1\" class=\"dataframe\">\n",
       "  <thead>\n",
       "    <tr style=\"text-align: right;\">\n",
       "      <th></th>\n",
       "      <th>date</th>\n",
       "      <th>signal</th>\n",
       "      <th>spy_close_price</th>\n",
       "    </tr>\n",
       "  </thead>\n",
       "  <tbody>\n",
       "    <tr>\n",
       "      <th>303</th>\n",
       "      <td>20130326</td>\n",
       "      <td>-3.802670</td>\n",
       "      <td>156.1900</td>\n",
       "    </tr>\n",
       "    <tr>\n",
       "      <th>421</th>\n",
       "      <td>20130912</td>\n",
       "      <td>4.193204</td>\n",
       "      <td>618.9500</td>\n",
       "    </tr>\n",
       "    <tr>\n",
       "      <th>422</th>\n",
       "      <td>20130913</td>\n",
       "      <td>4.143689</td>\n",
       "      <td>619.3300</td>\n",
       "    </tr>\n",
       "    <tr>\n",
       "      <th>423</th>\n",
       "      <td>20130916</td>\n",
       "      <td>4.124515</td>\n",
       "      <td>710.3100</td>\n",
       "    </tr>\n",
       "    <tr>\n",
       "      <th>459</th>\n",
       "      <td>20131105</td>\n",
       "      <td>429.514563</td>\n",
       "      <td>176.2700</td>\n",
       "    </tr>\n",
       "    <tr>\n",
       "      <th>460</th>\n",
       "      <td>20131106</td>\n",
       "      <td>432.961165</td>\n",
       "      <td>177.1700</td>\n",
       "    </tr>\n",
       "    <tr>\n",
       "      <th>570</th>\n",
       "      <td>20140414</td>\n",
       "      <td>0.004560</td>\n",
       "      <td>182.9401</td>\n",
       "    </tr>\n",
       "    <tr>\n",
       "      <th>571</th>\n",
       "      <td>20140415</td>\n",
       "      <td>0.454976</td>\n",
       "      <td>184.2000</td>\n",
       "    </tr>\n",
       "    <tr>\n",
       "      <th>572</th>\n",
       "      <td>20140416</td>\n",
       "      <td>0.455898</td>\n",
       "      <td>186.1250</td>\n",
       "    </tr>\n",
       "  </tbody>\n",
       "</table>\n",
       "</div>"
      ],
      "text/plain": [
       "         date      signal  spy_close_price\n",
       "303  20130326   -3.802670         156.1900\n",
       "421  20130912    4.193204         618.9500\n",
       "422  20130913    4.143689         619.3300\n",
       "423  20130916    4.124515         710.3100\n",
       "459  20131105  429.514563         176.2700\n",
       "460  20131106  432.961165         177.1700\n",
       "570  20140414    0.004560         182.9401\n",
       "571  20140415    0.454976         184.2000\n",
       "572  20140416    0.455898         186.1250"
      ]
     },
     "metadata": {},
     "output_type": "display_data"
    },
    {
     "data": {
      "text/html": [
       "<div>\n",
       "<style scoped>\n",
       "    .dataframe tbody tr th:only-of-type {\n",
       "        vertical-align: middle;\n",
       "    }\n",
       "\n",
       "    .dataframe tbody tr th {\n",
       "        vertical-align: top;\n",
       "    }\n",
       "\n",
       "    .dataframe thead th {\n",
       "        text-align: right;\n",
       "    }\n",
       "</style>\n",
       "<table border=\"1\" class=\"dataframe\">\n",
       "  <thead>\n",
       "    <tr style=\"text-align: right;\">\n",
       "      <th></th>\n",
       "      <th>date</th>\n",
       "      <th>signal</th>\n",
       "      <th>spy_close_price</th>\n",
       "    </tr>\n",
       "  </thead>\n",
       "  <tbody>\n",
       "    <tr>\n",
       "      <th>count</th>\n",
       "      <td>6.580000e+02</td>\n",
       "      <td>658.000000</td>\n",
       "      <td>658.000000</td>\n",
       "    </tr>\n",
       "    <tr>\n",
       "      <th>mean</th>\n",
       "      <td>2.012933e+07</td>\n",
       "      <td>3.911967</td>\n",
       "      <td>160.824444</td>\n",
       "    </tr>\n",
       "    <tr>\n",
       "      <th>std</th>\n",
       "      <td>7.778235e+03</td>\n",
       "      <td>0.525500</td>\n",
       "      <td>21.488326</td>\n",
       "    </tr>\n",
       "    <tr>\n",
       "      <th>min</th>\n",
       "      <td>2.012010e+07</td>\n",
       "      <td>3.099757</td>\n",
       "      <td>127.495000</td>\n",
       "    </tr>\n",
       "    <tr>\n",
       "      <th>25%</th>\n",
       "      <td>2.012083e+07</td>\n",
       "      <td>3.419053</td>\n",
       "      <td>140.817500</td>\n",
       "    </tr>\n",
       "    <tr>\n",
       "      <th>50%</th>\n",
       "      <td>2.013050e+07</td>\n",
       "      <td>3.890291</td>\n",
       "      <td>159.245000</td>\n",
       "    </tr>\n",
       "    <tr>\n",
       "      <th>75%</th>\n",
       "      <td>2.013788e+07</td>\n",
       "      <td>4.409072</td>\n",
       "      <td>180.985000</td>\n",
       "    </tr>\n",
       "    <tr>\n",
       "      <th>max</th>\n",
       "      <td>2.014083e+07</td>\n",
       "      <td>4.881311</td>\n",
       "      <td>200.710000</td>\n",
       "    </tr>\n",
       "  </tbody>\n",
       "</table>\n",
       "</div>"
      ],
      "text/plain": [
       "               date      signal  spy_close_price\n",
       "count  6.580000e+02  658.000000       658.000000\n",
       "mean   2.012933e+07    3.911967       160.824444\n",
       "std    7.778235e+03    0.525500        21.488326\n",
       "min    2.012010e+07    3.099757       127.495000\n",
       "25%    2.012083e+07    3.419053       140.817500\n",
       "50%    2.013050e+07    3.890291       159.245000\n",
       "75%    2.013788e+07    4.409072       180.985000\n",
       "max    2.014083e+07    4.881311       200.710000"
      ]
     },
     "metadata": {},
     "output_type": "display_data"
    }
   ],
   "source": [
    "# Eliminating Outliers\n",
    "Q1 = data.quantile(0.25)\n",
    "Q3 = data.quantile(0.75)\n",
    "IQR = Q3 - Q1\n",
    "\n",
    "df_outliers = data[((data < (Q1 - 1.5 * IQR)) |(data > (Q3 + 1.5 * IQR))).any(axis=1)]\n",
    "df = data[~((data < (Q1 - 1.5 * IQR)) |(data > (Q3 + 1.5 * IQR))).any(axis=1)]\n",
    "\n",
    "display(df_outliers)\n",
    "display(df.describe())"
   ]
  },
  {
   "cell_type": "markdown",
   "metadata": {},
   "source": [
    "Doing this caused the numbers of entries to decrease by 9 (size of df_outliers), meaning 9 entries were found to have outlier data. We chose to drop outliers from the data set rather than replace them because 9 outliers is a relatively very small fraction of the raw data. Additionally, the outliers found were not particularly close to their respective IQRs, so it seems as though they were complete errors."
   ]
  },
  {
   "cell_type": "code",
   "execution_count": 5,
   "metadata": {},
   "outputs": [
    {
     "data": {
      "image/png": "[encoded data removed]",
      "text/plain": [
       "<Figure size 432x288 with 1 Axes>"
      ]
     },
     "metadata": {},
     "output_type": "display_data"
    }
   ],
   "source": [
    "#Graph 1.2: signal vs spy_close_price\n",
    "df.plot(kind = 'scatter', x = 'signal', y = 'spy_close_price', rot = 70)\n",
    "plt.xlabel(\"signal\")\n",
    "plt.ylabel(\"spy_close_price\")\n",
    "plt.title(\"Signal vs SP500 Index\")\n",
    "plt.show()"
   ]
  },
  {
   "cell_type": "markdown",
   "metadata": {},
   "source": [
    "Now, the graph of signal vs spy_close_price shows that outleirs have been removed. Also, it appears that there is a correlation between spy_close_price and signal."
   ]
  },
  {
   "cell_type": "markdown",
   "metadata": {},
   "source": [
    "The format for date is given in an integer form, however, it is attempting to describe a date (e.g. 20120103 is the date Oct 3rd, 2012). We will convert these values into Python datetimes, so that they may be graphed (3 years of data is provided, so going from one year to the next provides a huge jump in the integer data, which is not accurate). "
   ]
  },
  {
   "cell_type": "code",
   "execution_count": 6,
   "metadata": {
    "scrolled": true
   },
   "outputs": [
    {
     "name": "stderr",
     "output_type": "stream",
     "text": [
      "C:\\Users\\Ivan\\Anaconda3\\lib\\site-packages\\ipykernel_launcher.py:2: SettingWithCopyWarning: \n",
      "A value is trying to be set on a copy of a slice from a DataFrame.\n",
      "Try using .loc[row_indexer,col_indexer] = value instead\n",
      "\n",
      "See the caveats in the documentation: http://pandas.pydata.org/pandas-docs/stable/indexing.html#indexing-view-versus-copy\n",
      "  \n"
     ]
    }
   ],
   "source": [
    "# Converting 'date' Data to Datetimes\n",
    "df['date'] = df['date'].apply(lambda x: pd.to_datetime(str(x), format='%Y%m%d'))"
   ]
  },
  {
   "cell_type": "code",
   "execution_count": 7,
   "metadata": {},
   "outputs": [
    {
     "data": {
      "image/png": "[encoded data removed]",
      "text/plain": [
       "<Figure size 432x288 with 1 Axes>"
      ]
     },
     "metadata": {},
     "output_type": "display_data"
    },
    {
     "data": {
      "image/png": "[encoded data removed]",
      "text/plain": [
       "<Figure size 432x288 with 1 Axes>"
      ]
     },
     "metadata": {},
     "output_type": "display_data"
    }
   ],
   "source": [
    "#Graph 2: date vs spy_close_price\n",
    "plt.plot(df['date'].values, df['spy_close_price'])\n",
    "plt.gcf().autofmt_xdate()\n",
    "plt.xlabel(\"date\")\n",
    "plt.ylabel(\"spy_close_price\")\n",
    "plt.title(\"Date vs SP500 Index\")\n",
    "plt.show()\n",
    "\n",
    "#Graph 3: date vs signal\n",
    "plt.plot(df['date'].values, df['signal'])\n",
    "plt.gcf().autofmt_xdate()\n",
    "plt.xlabel(\"date\")\n",
    "plt.ylabel(\"signal\")\n",
    "plt.title(\"Date vs Signal\")\n",
    "plt.show()"
   ]
  },
  {
   "cell_type": "markdown",
   "metadata": {},
   "source": [
    "The graphs above show that both signal and spy_close_price are increasing over time."
   ]
  },
  {
   "cell_type": "code",
   "execution_count": null,
   "metadata": {},
   "outputs": [],
   "source": []
  }
 ],
 "metadata": {
  "kernelspec": {
   "display_name": "Python 3",
   "language": "python",
   "name": "python3"
  },
  "language_info": {
   "codemirror_mode": {
    "name": "ipython",
    "version": 3
   },
   "file_extension": ".py",
   "mimetype": "text/x-python",
   "name": "python",
   "nbconvert_exporter": "python",
   "pygments_lexer": "ipython3",
   "version": "3.6.5"
  }
 },
 "nbformat": 4,
 "nbformat_minor": 2
}
